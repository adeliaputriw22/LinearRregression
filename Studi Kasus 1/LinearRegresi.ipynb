{
  "nbformat": 4,
  "nbformat_minor": 0,
  "metadata": {
    "colab": {
      "provenance": []
    },
    "kernelspec": {
      "name": "python3",
      "display_name": "Python 3"
    },
    "language_info": {
      "name": "python"
    }
  },
  "cells": [
    {
      "cell_type": "code",
      "execution_count": 1,
      "metadata": {
        "id": "SS6vpTqxQWO6"
      },
      "outputs": [],
      "source": [
        "#Import Library uang diperlukan Scipy\n",
        "from scipy import stats"
      ]
    },
    {
      "cell_type": "code",
      "source": [
        "# x = data usia mobil (tahun)\n",
        "x = [5, 4, 6, 5, 5, 5, 6, 6, 2, 7, 7]"
      ],
      "metadata": {
        "id": "FfFg7hv3QkUf"
      },
      "execution_count": 2,
      "outputs": []
    },
    {
      "cell_type": "code",
      "source": [
        "# y = data harga mobil ($100)\n",
        "y = [85, 103, 70, 82, 89, 98, 66, 95, 169, 70, 48]"
      ],
      "metadata": {
        "id": "Rj4tRNbjQ0fW"
      },
      "execution_count": 3,
      "outputs": []
    },
    {
      "cell_type": "code",
      "source": [
        "slope, intercept, r, p, std_err = stats.linregress(x,y)"
      ],
      "metadata": {
        "id": "RkQ98uWlRIiP"
      },
      "execution_count": 5,
      "outputs": []
    },
    {
      "cell_type": "code",
      "source": [
        "# Buat Fungsi Linear Regresi =>\n",
        "def myfunc(x):\n",
        "  return slope * x + intercept"
      ],
      "metadata": {
        "id": "YbM-W7g7Rkny"
      },
      "execution_count": 7,
      "outputs": []
    },
    {
      "cell_type": "code",
      "source": [
        "harga_mobil = myfunc(4)"
      ],
      "metadata": {
        "id": "eS0fCT3GR-bR"
      },
      "execution_count": 10,
      "outputs": []
    },
    {
      "cell_type": "code",
      "source": [
        "print(harga_mobil)"
      ],
      "metadata": {
        "colab": {
          "base_uri": "https://localhost:8080/"
        },
        "id": "HkQGx7bYSTJh",
        "outputId": "34a6444d-ee45-4fc6-a258-9ea291cc81cb"
      },
      "execution_count": 9,
      "outputs": [
        {
          "output_type": "stream",
          "name": "stdout",
          "text": [
            "114.42342342342342\n"
          ]
        }
      ]
    }
  ]
}